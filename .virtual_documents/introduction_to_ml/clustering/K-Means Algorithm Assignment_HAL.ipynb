








import pandas as pd
import numpy as np
import matplotlib.pyplot as plt





# Function to sketch the data
def sketch_image(x, y, marker='.', color='black'):
    plt.scatter(x=x, y=y, color=color, s=10, marker=marker)
    plt.xlabel('X1', fontsize=10)
    plt.ylabel('X2', fontsize=10)
    plt.grid(visible=True, alpha=0.3, linestyle='--')
    return plt

# Function to plot the fitted data
def plot_image(x, y, c, cmap='tab20', marker=".", size=10, xlabel='X-axis', ylabel='Y-axis'):
    plt.scatter(x=x, y=y, c=c, s=size, cmap=cmap, marker=marker)
    plt.xlabel(xlabel, fontsize=10)
    plt.ylabel(ylabel, fontsize=10)
    plt.grid(visible=True, alpha=0.3, linestyle='--')
    return plt

# Function for elbow_method
def elbow_method(X, max_clusters=10):
    wcss_values = []
    for k in range(1, max_clusters+1):
        centroids = initialize_centroids(X, k) # create random centroid points
        clusters, centroids, _ = kmeans_algorithm(X, centroids) 
        wcss = 0  # Initialize wcss value with 0
        for i in range(k):
            cluster_points = X[clusters == i] # Separate associated clusters
            wcss += np.sum((cluster_points - centroids[i])**2) # find wcss values
        wcss_values.append(wcss)
    return wcss_values


# Creat random centroid points
def initialize_centroids(X, n_clusters):
    centroids = X[np.random.choice(len(X), n_clusters, replace=False)]
    return centroids

# Function to calculate K-Means algorithm
def kmeans_algorithm(points, centroids, max_iterations=100, tolerance=1e-4):
    
    """calculation function for euclidean distance"""
    def euclidean_distance(k, x):
        return np.sqrt(np.sum((k - x) ** 2)) # √(k1 - x1)^2 + (k2 - x2)^2
    
    max_iterations = 100                 # Setting maximum iteration
    n_points = points.shape[0]           # number of points given
    n_centroids = centroids.shape[0]     # number of centroids
    clusters = np.zeros(n_points)        # create array including zeros

    
    prev_centroids = centroids.copy()    # recorded original centroids point
    iterations = 0                       # intialize iterations variable from 0
    
    while iterations < max_iterations:   # looping continues while iterations < maximum iterations
        
        """for-loop to calculate distance from each location to each centroid"""
        for i in range(n_points):        
            distances = [euclidean_distance(points[i], _) for _ in centroids] # calculate euclidean_distance from every points to each centroid point
            cluster = np.argmin(distances) # store location of minimum distance
            clusters[i] = cluster          # store the location into clusters variable

        """for-loop to find nearest points from each centroid"""
        for j in range(n_centroids):
            cluster_points = [points[i] for i in range(n_points) if clusters[i] == j] # select cluster points near with each centroids
            
            if len(cluster_points) > 0:   # conditional check to know cluster_points > 0
                centroids[j] = np.mean(cluster_points, axis=0) # calculate mean location of centroid
        if np.sum(np.abs(centroids - prev_centroids)) < tolerance: # conditional check to break while loop
            break
        prev_centroids = centroids.copy()
        iterations += 1
    return clusters, centroids, iterations





# Given 8 points
points = np.array([[2,10],[2,5],[8,4],[5,8],[7,5],[6,4],[1,2],[4,9]])

# 3 different centroid points
centroids = np.array([[2,10],[5,8],[1,2]])

clusters, centroids, iterations = kmeans_algorithm(points=points, centroids=centroids)
print("number of iterations =", iterations)

plot_image(points[:,0], points[:, 1], clusters, marker="o", size=15)
plt.title("Three clusters with number of iterations = 3")
plt.show()














max_clusters = 10
data1 = pd.read_csv("South_Korea_territory.csv")
X = data[['Latitude (deg)', 'Longitude (deg)']].values
sketch_image(x=data1['Latitude (deg)'], y=data1['Longitude (deg)'], marker='.')


# Use Elbow method to discover number of clusters
wcss = elbow_method(X, max_clusters)      # Within-Cluster Sum of Square
plt.plot(range(1, max_clusters+1), wcss, marker='o')   # plot elbow data
plt.xlabel('Number of clusters')
plt.ylabel('Within-Cluster Sum of Square')
plt.title("Elbow Method")
plt.show()


n_clusters = 3   # chose the value from elbow method
centroids = initialize_centroids(X, n_clusters) # random centroid points
clusters, centroids, iterations = kmeans_algorithm(points=X, centroids=centroids)








plot_image(X[:,0], X[:, 1], clusters, xlabel='Latitude', ylabel="Longitude")
plt.title("Three clusters of South Korea territory")
plt.show()





data = pd.read_csv('Vertiport_candidates.csv')
X = data[['Latitude (deg)', 'Longitude (deg)']].values
sketch_image(x=data['Latitude (deg)'], y=data['Longitude (deg)'], marker='.')
plt.show()


n_clusters = 17  # K values
centroids = initialize_centroids(X, n_clusters) # random centroid points
clusters, centroids, iterations = kmeans_algorithm(points=X, centroids=centroids)


# plot_image(X[:,0], X[:,1], clusters, marker=".")   # all given points
sketch_image(x=data1['Latitude (deg)'], y=data1['Longitude (deg)'], marker='.')
plot_image(centroids[:,0], centroids[:, 1], 
           list(set(clusters)), marker="o", size=50, 
           xlabel='Latitude', ylabel="Longitude") # cluster center points
plt.title("17 vertiports")
plt.show()








print("Final veriport locations are {}".format(centroids))


max_clusters = 15
# Use Elbow method to discover number of clusters
wcss = elbow_method(X, max_clusters)      # Within-Cluster Sum of Square
plt.plot(range(1, max_clusters+1), wcss, marker='o')   # plot elbow data
plt.xlabel('Number of clusters')
plt.ylabel('Within-Cluster Sum of Square')
plt.title("Elbow Method")
plt.show()


n_clusters = 3  # K values
centroids = initialize_centroids(X, n_clusters) # random centroid points
clusters, centroids, iterations = kmeans_algorithm(points=X, centroids=centroids)
# plot_image(data1[:,0], data1[:,1], clusters, marker=".")   # all given points
sketch_image(x=data1['Latitude (deg)'], y=data1['Longitude (deg)'], marker='.')
plot_image(centroids[:,0], centroids[:, 1], 
           list(set(clusters)), marker="o", size=50,
           xlabel='Latitude', ylabel="Longitude") # cluster center points
plt.title("3 vertiports")
plt.show()









